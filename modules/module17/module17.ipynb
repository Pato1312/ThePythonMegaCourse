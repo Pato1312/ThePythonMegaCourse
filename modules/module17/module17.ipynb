{
 "cells": [
  {
   "cell_type": "code",
   "execution_count": 2,
   "id": "726182ea",
   "metadata": {},
   "outputs": [],
   "source": [
    "import cv2 "
   ]
  },
  {
   "cell_type": "code",
   "execution_count": 3,
   "id": "ae9af6fe",
   "metadata": {},
   "outputs": [],
   "source": [
    "img = cv2.imread(\"C:\\\\Users\\\\pato1\\\\OneDrive\\\\Documentos\\\\PythonMegaCourse\\\\modules\\\\module17\\\\galaxy.jpg\", 0)"
   ]
  },
  {
   "cell_type": "code",
   "execution_count": 4,
   "id": "6ff61b3e",
   "metadata": {},
   "outputs": [
    {
     "name": "stdout",
     "output_type": "stream",
     "text": [
      "<class 'numpy.ndarray'>\n",
      "[[14 18 14 ... 20 15 16]\n",
      " [12 16 12 ... 20 15 17]\n",
      " [12 13 16 ... 14 24 21]\n",
      " ...\n",
      " [ 0  0  0 ...  5  8 14]\n",
      " [ 0  0  0 ...  2  3  9]\n",
      " [ 1  1  1 ...  1  1  3]]\n",
      "(1485, 990)\n",
      "2\n"
     ]
    }
   ],
   "source": [
    "print(type(img))\n",
    "print(img)\n",
    "print(img.shape)\n",
    "print(img.ndim)"
   ]
  },
  {
   "cell_type": "code",
   "execution_count": 8,
   "id": "b35d7c21",
   "metadata": {},
   "outputs": [],
   "source": [
    "width = int(img.shape[1] / 2)\n",
    "height = int(img.shape[0] / 2)\n",
    "resized_img = cv2.resize(img, (width, height))\n",
    "cv2.imwrite(\"galaxy_resized.jpg\", resized_img)\n",
    "cv2.imshow(\"Galaxy\", resized_img)\n",
    "cv2.waitKey(0)\n",
    "cv2.destroyAllWindows()"
   ]
  },
  {
   "cell_type": "code",
   "execution_count": 6,
   "id": "bb37865e",
   "metadata": {},
   "outputs": [],
   "source": [
    "#Exercise change resolution to 100x100\n",
    "img_kangoroos = cv2.imread(\"C:\\\\Users\\\\pato1\\\\OneDrive\\\\Documentos\\\\PythonMegaCourse\\\\modules\\\\module17\\\\kangaroos-rain-australia_71370_990x742.jpg\", 1)\n",
    "img_lighthouse = cv2.imread(\"C:\\\\Users\\\\pato1\\\\OneDrive\\\\Documentos\\\\PythonMegaCourse\\\\modules\\\\module17\\\\Lighthouse.jpg\", 1)\n",
    "img_moon = cv2.imread(\"C:\\\\Users\\\\pato1\\\\OneDrive\\\\Documentos\\\\PythonMegaCourse\\\\modules\\\\module17\\\\Moon sinking, sun rising.jpg\", 1)\n",
    "\n",
    "width = 100\n",
    "height = 100\n",
    "\n",
    "kangoroos_resized = cv2.resize(img_kangoroos, (width, height))\n",
    "lighthouse_resized = cv2.resize(img_lighthouse, (width, height))\n",
    "moon_resized = cv2.resize(img_moon, (width, height))\n",
    "\n",
    "cv2.imshow(\"Kangoroos Resized\", kangoroos_resized)\n",
    "cv2.imshow(\"Lighthouse Resized\", lighthouse_resized)\n",
    "cv2.imshow(\"Moon Resized\", moon_resized)\n",
    "\n",
    "cv2.imwrite(\"kangoroos_resized.jpg\", kangoroos_resized)\n",
    "cv2.imwrite(\"lighthouse_resized.jpg\", lighthouse_resized)\n",
    "cv2.imwrite(\"moon_resized.jpg\", moon_resized)\n",
    "\n",
    "cv2.waitKey(0)  # Wait until a key is pressed\n",
    "cv2.destroyAllWindows()\n"
   ]
  },
  {
   "cell_type": "code",
   "execution_count": 9,
   "id": "b4fc5d15",
   "metadata": {},
   "outputs": [],
   "source": [
    "import cv2\n",
    "import glob\n",
    "\n",
    "images=glob.glob(\"*.jpg\")\n",
    "\n",
    "for image in images:\n",
    "    img=cv2.imread(image,0)\n",
    "    re=cv2.resize(img,(100,100))\n",
    "    cv2.imshow(\"Hey\",re)\n",
    "    cv2.waitKey(500)\n",
    "    cv2.destroyAllWindows()\n",
    "    #cv2.imwrite(\"resized_\"+image,re)"
   ]
  },
  {
   "cell_type": "code",
   "execution_count": null,
   "id": "990692e7",
   "metadata": {},
   "outputs": [],
   "source": []
  }
 ],
 "metadata": {
  "kernelspec": {
   "display_name": ".venv",
   "language": "python",
   "name": "python3"
  },
  "language_info": {
   "codemirror_mode": {
    "name": "ipython",
    "version": 3
   },
   "file_extension": ".py",
   "mimetype": "text/x-python",
   "name": "python",
   "nbconvert_exporter": "python",
   "pygments_lexer": "ipython3",
   "version": "3.13.0"
  }
 },
 "nbformat": 4,
 "nbformat_minor": 5
}
